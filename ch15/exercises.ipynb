{
 "cells": [
  {
   "attachments": {},
   "cell_type": "markdown",
   "metadata": {},
   "source": [
    "### 1. \n",
    "\n",
    "Coding basic loops. This exercise asks you to experiment with for loops.\n",
    "\n",
    "1. Write a for loop that prints the ASCII code of each character in a string named S. Use the built-in function ord(character) to convert each character to an ASCII integer. This function technically returns a Unicode code point in Python 3.X, but if you restrict its content to ASCII characters, you’ll get back ASCII codes. (Test it interactively to see how it works.)\n",
    "\n",
    "2. Next, change your loop to compute the sum of the ASCII codes of all the characters in a string.\n",
    "\n",
    "3. Finally, modify your code again to return a new list that contains the ASCII codes of each character in the string. Does the expression map(ord, S) have a similar effect? How about [ord(c) for c in S]? Why? (Hint: see Chapter 14.)"
   ]
  },
  {
   "cell_type": "code",
   "execution_count": 1,
   "metadata": {},
   "outputs": [],
   "source": [
    "s = 'hello world'"
   ]
  },
  {
   "cell_type": "code",
   "execution_count": 2,
   "metadata": {},
   "outputs": [
    {
     "name": "stdout",
     "output_type": "stream",
     "text": [
      "104 101 108 108 111 32 119 111 114 108 100 "
     ]
    }
   ],
   "source": [
    "for ch in s:\n",
    "    print(ord(ch), end=' ')"
   ]
  },
  {
   "cell_type": "code",
   "execution_count": 3,
   "metadata": {},
   "outputs": [
    {
     "name": "stdout",
     "output_type": "stream",
     "text": [
      "1116\n"
     ]
    }
   ],
   "source": [
    "ascii_sum = 0\n",
    "for ch in s:\n",
    "    ascii_sum += ord(ch)\n",
    "print(ascii_sum)"
   ]
  },
  {
   "cell_type": "code",
   "execution_count": 4,
   "metadata": {},
   "outputs": [
    {
     "name": "stdout",
     "output_type": "stream",
     "text": [
      "[104, 101, 108, 108, 111, 32, 119, 111, 114, 108, 100]\n"
     ]
    }
   ],
   "source": [
    "l = []\n",
    "for ch in s:\n",
    "    l.append(ord(ch))\n",
    "print(l)"
   ]
  },
  {
   "cell_type": "code",
   "execution_count": 5,
   "metadata": {},
   "outputs": [
    {
     "name": "stdout",
     "output_type": "stream",
     "text": [
      "[104, 101, 108, 108, 111, 32, 119, 111, 114, 108, 100]\n"
     ]
    }
   ],
   "source": [
    "print(list(map(ord, s)))"
   ]
  },
  {
   "cell_type": "code",
   "execution_count": 6,
   "metadata": {},
   "outputs": [
    {
     "name": "stdout",
     "output_type": "stream",
     "text": [
      "[104, 101, 108, 108, 111, 32, 119, 111, 114, 108, 100]\n"
     ]
    }
   ],
   "source": [
    "print([ord(ch) for ch in s])"
   ]
  },
  {
   "attachments": {},
   "cell_type": "markdown",
   "metadata": {},
   "source": [
    "### 2. \n",
    "\n",
    "Backslash characters. What happens on your machine when you type the following code interactively?\n",
    "\n",
    "```\n",
    "for i in range(50):\n",
    "    print('hello %d\\n\\a' % i)\n",
    "```"
   ]
  },
  {
   "attachments": {},
   "cell_type": "markdown",
   "metadata": {},
   "source": [
    "### 3. \n",
    "\n",
    "Sorting dictionaries. In Chapter 8, we saw that dictionaries are unordered collections. Write a for loop that prints a dictionary’s items in sorted (ascending) order. (Hint: use the dictionary keys and list sort methods, or the newer sorted built-in function.)"
   ]
  },
  {
   "cell_type": "code",
   "execution_count": 9,
   "metadata": {},
   "outputs": [
    {
     "name": "stdout",
     "output_type": "stream",
     "text": [
      "a | 1\n",
      "b | 0\n",
      "c | 2\n",
      "d | 3\n",
      "h | 5\n",
      "s | 4\n",
      "{'b': 0, 'a': 1, 'c': 2, 'd': 3, 's': 4, 'h': 5}\n"
     ]
    }
   ],
   "source": [
    "d = dict(zip('bacdsh', range(6)))\n",
    "for k, v in sorted(d.items()):\n",
    "    print(k, v, sep=' | ')\n",
    "print(d)"
   ]
  },
  {
   "attachments": {},
   "cell_type": "markdown",
   "metadata": {},
   "source": [
    "### 4.\n",
    "\n",
    "Program logic alternatives. Consider the following code, which uses a while loop and found flag to search a list of powers of 2 for the value of 2 raised to the fifth power (32). It’s stored in a module file called power.py.\n",
    "\n",
    "```\n",
    "L = [1, 2, 4, 8, 16, 32, 64]\n",
    "X = 5\n",
    "\n",
    "found = False\n",
    "i = 0\n",
    "while not found and i < len(L):\n",
    "   if 2 ** X == L[i]:\n",
    "       found = True\n",
    "   else:\n",
    "       i = i+1\n",
    "\n",
    "if found:\n",
    "    print('at index', i)\n",
    "else:\n",
    "    print(X, 'not found')\n",
    "\n",
    "C:\\book\\tests> python power.py\n",
    "at index 5\n",
    "```\n",
    "\n",
    "As is, the example doesn’t follow normal Python coding techniques. Follow the steps outlined here to improve it (for all the transformations, you may either type your code interactively or store it in a script file run from the system command line—using a file makes this exercise much easier):"
   ]
  },
  {
   "attachments": {},
   "cell_type": "markdown",
   "metadata": {},
   "source": [
    "1. First, rewrite this code with a while loop else clause to eliminate the found flag and final if statement."
   ]
  },
  {
   "cell_type": "code",
   "execution_count": 21,
   "metadata": {},
   "outputs": [
    {
     "name": "stdout",
     "output_type": "stream",
     "text": [
      "at index 2\n"
     ]
    }
   ],
   "source": [
    "L = [1, 2, 4, 8, 16, 32, 64]\n",
    "X = 2\n",
    "i = 0\n",
    "while i < len(L):\n",
    "   if 2 ** X == L[i]:\n",
    "       print('at index', i)\n",
    "       break\n",
    "   i = i+1\n",
    "else:\n",
    "    print(X, 'not found')\n"
   ]
  },
  {
   "attachments": {},
   "cell_type": "markdown",
   "metadata": {},
   "source": [
    "2. Next, rewrite the example to use a for loop with an else clause, to eliminate the explicit list-indexing logic. (Hint: to get the index of an item, use the list index method—L.index(X) returns the offset of the first X in list L.)\n"
   ]
  },
  {
   "cell_type": "code",
   "execution_count": 24,
   "metadata": {},
   "outputs": [
    {
     "name": "stdout",
     "output_type": "stream",
     "text": [
      "at index 2\n"
     ]
    }
   ],
   "source": [
    "L = [1, 2, 4, 8, 16, 32, 64]\n",
    "X = 2\n",
    "for n in L:\n",
    "   if X ** 2 == n:\n",
    "       print('at index', L.index(n))\n",
    "       break\n",
    "else:\n",
    "    print(X, 'not found')"
   ]
  },
  {
   "attachments": {},
   "cell_type": "markdown",
   "metadata": {},
   "source": [
    "3. Next, remove the loop completely by rewriting the example with a simple in operator membership expression. (See Chapter 8 for more details, or type this to test: 2 in [1,2,3].)"
   ]
  },
  {
   "cell_type": "code",
   "execution_count": 25,
   "metadata": {},
   "outputs": [
    {
     "name": "stdout",
     "output_type": "stream",
     "text": [
      "at index 2\n"
     ]
    }
   ],
   "source": [
    "L = [1, 2, 4, 8, 16, 32, 64]\n",
    "X = 2\n",
    "if X ** 2 in L:\n",
    "    print('at index', L.index(n))\n",
    "else:\n",
    "    print(X, 'not found')"
   ]
  },
  {
   "attachments": {},
   "cell_type": "markdown",
   "metadata": {},
   "source": [
    "4. Finally, use a for loop and the list append method to generate the powers-of-2 list (L) instead of hardcoding a list literal."
   ]
  },
  {
   "cell_type": "code",
   "execution_count": 27,
   "metadata": {},
   "outputs": [
    {
     "name": "stdout",
     "output_type": "stream",
     "text": [
      "at index 2\n"
     ]
    }
   ],
   "source": [
    "L = []\n",
    "for i in range(7):\n",
    "    L.append(2 ** i)\n",
    "X = 2\n",
    "if X ** 2 in L:\n",
    "    print('at index', L.index(n))\n",
    "else:\n",
    "    print(X, 'not found')"
   ]
  },
  {
   "attachments": {},
   "cell_type": "markdown",
   "metadata": {},
   "source": [
    "5. Do you think it would improve performance to move the 2 ** X expression outside the loops? How would you code that?"
   ]
  },
  {
   "cell_type": "code",
   "execution_count": 32,
   "metadata": {},
   "outputs": [
    {
     "name": "stdout",
     "output_type": "stream",
     "text": [
      "at index 2\n"
     ]
    }
   ],
   "source": [
    "L = []\n",
    "for i in range(7):\n",
    "    L.append(2 ** i)\n",
    "X = 2\n",
    "X **= 2\n",
    "if X in L:\n",
    "    print('at index', L.index(n))\n",
    "else:\n",
    "    print(X, 'not found')"
   ]
  },
  {
   "attachments": {},
   "cell_type": "markdown",
   "metadata": {},
   "source": [
    "6. As we saw in exercise 1, Python includes a map(function, list) tool that can generate a powers-of-2 list, too: map(lambda x: 2 ** x, range(7)). Try typing this code interactively; we’ll meet lambda more formally in the next part of this book, especially in Chapter 19. Would a list comprehension help here (see Chapter 14)?"
   ]
  },
  {
   "cell_type": "code",
   "execution_count": 35,
   "metadata": {},
   "outputs": [
    {
     "name": "stdout",
     "output_type": "stream",
     "text": [
      "at index 2\n"
     ]
    }
   ],
   "source": [
    "L = list(map(lambda x: x **2, range(7)))\n",
    "X = 2\n",
    "X **= 2\n",
    "if X in L: \n",
    "    print('at index', L.index(n))\n",
    "else:\n",
    "    print(X, 'not found')"
   ]
  },
  {
   "cell_type": "code",
   "execution_count": null,
   "metadata": {},
   "outputs": [],
   "source": []
  }
 ],
 "metadata": {
  "kernelspec": {
   "display_name": ".venv",
   "language": "python",
   "name": "python3"
  },
  "language_info": {
   "codemirror_mode": {
    "name": "ipython",
    "version": 3
   },
   "file_extension": ".py",
   "mimetype": "text/x-python",
   "name": "python",
   "nbconvert_exporter": "python",
   "pygments_lexer": "ipython3",
   "version": "3.11.4"
  },
  "orig_nbformat": 4
 },
 "nbformat": 4,
 "nbformat_minor": 2
}
