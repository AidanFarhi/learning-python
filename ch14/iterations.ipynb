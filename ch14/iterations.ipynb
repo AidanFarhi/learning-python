{
 "cells": [
  {
   "attachments": {},
   "cell_type": "markdown",
   "metadata": {},
   "source": [
    "#### Iterations: A First Look"
   ]
  },
  {
   "cell_type": "code",
   "execution_count": 1,
   "metadata": {},
   "outputs": [
    {
     "name": "stdout",
     "output_type": "stream",
     "text": [
      "0 1 4 "
     ]
    }
   ],
   "source": [
    "for x in range(3): print(x ** 2, end=' ')"
   ]
  },
  {
   "attachments": {},
   "cell_type": "markdown",
   "metadata": {},
   "source": [
    "Iterate through files"
   ]
  },
  {
   "cell_type": "code",
   "execution_count": 2,
   "metadata": {},
   "outputs": [
    {
     "name": "stdout",
     "output_type": "stream",
     "text": [
      "import sys\n",
      "print(sys.path)\n",
      "x = 2\n",
      "print(x ** 4)\n"
     ]
    }
   ],
   "source": [
    "print(open('script.py').read())"
   ]
  },
  {
   "cell_type": "code",
   "execution_count": 6,
   "metadata": {},
   "outputs": [
    {
     "name": "stdout",
     "output_type": "stream",
     "text": [
      "import sys\n",
      "print(sys.path)\n",
      "x = 2\n",
      "print(x ** 4)"
     ]
    },
    {
     "ename": "StopIteration",
     "evalue": "",
     "output_type": "error",
     "traceback": [
      "\u001b[0;31m---------------------------------------------------------------------------\u001b[0m",
      "\u001b[0;31mStopIteration\u001b[0m                             Traceback (most recent call last)",
      "Cell \u001b[0;32mIn[6], line 6\u001b[0m\n\u001b[1;32m      4\u001b[0m \u001b[39mprint\u001b[39m(f\u001b[39m.\u001b[39m\u001b[39m__next__\u001b[39m(), end\u001b[39m=\u001b[39m\u001b[39m'\u001b[39m\u001b[39m'\u001b[39m)\n\u001b[1;32m      5\u001b[0m \u001b[39mprint\u001b[39m(f\u001b[39m.\u001b[39m\u001b[39m__next__\u001b[39m(), end\u001b[39m=\u001b[39m\u001b[39m'\u001b[39m\u001b[39m'\u001b[39m)\n\u001b[0;32m----> 6\u001b[0m \u001b[39mprint\u001b[39m(f\u001b[39m.\u001b[39;49m\u001b[39m__next__\u001b[39;49m(), end\u001b[39m=\u001b[39m\u001b[39m'\u001b[39m\u001b[39m'\u001b[39m)\n",
      "\u001b[0;31mStopIteration\u001b[0m: "
     ]
    }
   ],
   "source": [
    "f = open('script.py')\n",
    "print(f.__next__(), end='')\n",
    "print(f.__next__(), end='')\n",
    "print(f.__next__(), end='')\n",
    "print(f.__next__(), end='')\n",
    "print(f.__next__(), end='')"
   ]
  },
  {
   "cell_type": "code",
   "execution_count": 22,
   "metadata": {},
   "outputs": [],
   "source": [
    "class MyIterable:\n",
    "    def __init__(self, *args):\n",
    "        self.l = args\n",
    "        self.i = 0\n",
    "        self.n = len(args)\n",
    "\n",
    "    def __iter__(self):\n",
    "        return self\n",
    "\n",
    "    def __next__(self):\n",
    "        if self.i == self.n: raise StopIteration()\n",
    "        obj = self.l[self.i]\n",
    "        self.i += 1\n",
    "        return obj\n"
   ]
  },
  {
   "cell_type": "code",
   "execution_count": 24,
   "metadata": {},
   "outputs": [
    {
     "name": "stdout",
     "output_type": "stream",
     "text": [
      "a\n",
      "1\n",
      "[]\n"
     ]
    }
   ],
   "source": [
    "my_iterable = MyIterable('a', 1, [])\n",
    "for n in my_iterable:\n",
    "    print(n)"
   ]
  },
  {
   "cell_type": "code",
   "execution_count": 26,
   "metadata": {},
   "outputs": [
    {
     "name": "stdout",
     "output_type": "stream",
     "text": [
      "True\n"
     ]
    }
   ],
   "source": [
    "f = open('script.py')\n",
    "print(iter(f) is f)\n",
    "f.close()"
   ]
  },
  {
   "cell_type": "code",
   "execution_count": 32,
   "metadata": {},
   "outputs": [
    {
     "name": "stdout",
     "output_type": "stream",
     "text": [
      "False\n",
      "1\n",
      "2\n",
      "3\n"
     ]
    }
   ],
   "source": [
    "l = [1, 2, 3]\n",
    "l_iterator = iter(l)\n",
    "print(l_iterator is l)\n",
    "print(next(l_iterator))\n",
    "print(l_iterator.__next__())\n",
    "print(l_iterator.__next__())\n"
   ]
  },
  {
   "cell_type": "code",
   "execution_count": 33,
   "metadata": {},
   "outputs": [
    {
     "name": "stdout",
     "output_type": "stream",
     "text": [
      "1 4 9 "
     ]
    }
   ],
   "source": [
    "l = [1, 2, 3]\n",
    "for x in l:\n",
    "    print(x ** 2, end=' ')"
   ]
  },
  {
   "cell_type": "code",
   "execution_count": 34,
   "metadata": {},
   "outputs": [
    {
     "name": "stdout",
     "output_type": "stream",
     "text": [
      "1 4 9 "
     ]
    }
   ],
   "source": [
    "l_iterator = iter(l)\n",
    "while True:\n",
    "    try:\n",
    "        x = next(l_iterator)\n",
    "    except StopIteration:\n",
    "        break\n",
    "    print(x ** 2, end=' ')"
   ]
  },
  {
   "cell_type": "code",
   "execution_count": 37,
   "metadata": {},
   "outputs": [
    {
     "name": "stdout",
     "output_type": "stream",
     "text": [
      "{'a': 1, 'b': 2, 'c': 3}\n",
      "a\n",
      "b\n",
      "c\n"
     ]
    }
   ],
   "source": [
    "d = {k: v for k, v in zip('abc', [1, 2, 3])}\n",
    "print(d)\n",
    "d_iterator = iter(d)\n",
    "print(next(d_iterator))\n",
    "print(next(d_iterator))\n",
    "print(next(d_iterator))"
   ]
  },
  {
   "cell_type": "code",
   "execution_count": 43,
   "metadata": {},
   "outputs": [
    {
     "name": "stdout",
     "output_type": "stream",
     "text": [
      "('../', ['ch9', 'ch8', 'ch12', 'ch14', 'ch13', 'ch3', 'ch2', '.venv', '.git', 'ch11', 'ch10'], ['.gitignore'])\n",
      "('../ch9', [], ['data_file.txt', 'my_file.txt', 'data_file.pkl', 'tuples.ipynb', 'part_2_exercises.ipynb', 'files.ipynb', 'data_file.json', 'exercise_file.txt', 'quiz.pkl', 'data.bin'])\n",
      "('../ch8', [], ['lists.ipynb', 'dictionaries.ipynb', 'stuff.db'])\n",
      "('../ch12', [], ['if_statements.ipynb'])\n",
      "('../ch14', [], ['iterations.ipynb', 'script.py'])\n",
      "('../ch13', [], ['test.csv', 'loops.ipynb'])\n",
      "('../ch3', [], ['script2', 'myfile.py', 'script1.py', 'module1.py', 'script1_output.txt', 'script3.py', 'threenames.py'])\n",
      "('../ch2', [], ['script0.py'])\n",
      "('../ch11', [], ['log.txt', 'assignments.ipynb', 'output.txt'])\n",
      "('../ch10', [], ['age_check2.py', 'age_check3.py', 'age_check4.py', 'statements.ipynb', 'age_check.py', 'age_check5.py', 'hello.txt'])\n"
     ]
    }
   ],
   "source": [
    "import os\n",
    "for l in os.walk('../'):\n",
    "    if '.venv' not in l[0] and '.git' not in l[0]:\n",
    "        print(l)"
   ]
  },
  {
   "cell_type": "code",
   "execution_count": 47,
   "metadata": {},
   "outputs": [
    {
     "name": "stdout",
     "output_type": "stream",
     "text": [
      "0\n",
      "1\n"
     ]
    }
   ],
   "source": [
    "r = range(5)\n",
    "i = iter(r)\n",
    "print(next(i))\n",
    "print(next(i))"
   ]
  },
  {
   "attachments": {},
   "cell_type": "markdown",
   "metadata": {},
   "source": [
    "#### List Comprehensions: A First Detailed Look"
   ]
  },
  {
   "attachments": {},
   "cell_type": "markdown",
   "metadata": {},
   "source": [
    "Slow approach - `for` loop"
   ]
  },
  {
   "cell_type": "code",
   "execution_count": 48,
   "metadata": {},
   "outputs": [
    {
     "name": "stdout",
     "output_type": "stream",
     "text": [
      "[11, 12, 13, 14, 15]\n"
     ]
    }
   ],
   "source": [
    "l = [1, 2, 3, 4, 5]\n",
    "for i in range(len(l)):\n",
    "    l[i] += 10\n",
    "print(l)"
   ]
  },
  {
   "attachments": {},
   "cell_type": "markdown",
   "metadata": {},
   "source": [
    "Fast approach - List Comprehensioin"
   ]
  },
  {
   "cell_type": "code",
   "execution_count": 49,
   "metadata": {},
   "outputs": [
    {
     "name": "stdout",
     "output_type": "stream",
     "text": [
      "[11, 12, 13, 14, 15]\n"
     ]
    }
   ],
   "source": [
    "l = [1, 2, 3, 4, 5]\n",
    "l = [x + 10 for x in l]\n",
    "print(l)"
   ]
  },
  {
   "attachments": {},
   "cell_type": "markdown",
   "metadata": {},
   "source": [
    "#### List Comprehension on Files"
   ]
  },
  {
   "cell_type": "code",
   "execution_count": 55,
   "metadata": {},
   "outputs": [
    {
     "name": "stdout",
     "output_type": "stream",
     "text": [
      "['import sys', 'print(sys.path)', 'x = 2', 'print(x ** 4)']\n"
     ]
    }
   ],
   "source": [
    "lines = [line.rstrip() for line in open('script.py')]\n",
    "print(lines)"
   ]
  },
  {
   "cell_type": "code",
   "execution_count": null,
   "metadata": {},
   "outputs": [],
   "source": []
  }
 ],
 "metadata": {
  "kernelspec": {
   "display_name": ".venv",
   "language": "python",
   "name": "python3"
  },
  "language_info": {
   "codemirror_mode": {
    "name": "ipython",
    "version": 3
   },
   "file_extension": ".py",
   "mimetype": "text/x-python",
   "name": "python",
   "nbconvert_exporter": "python",
   "pygments_lexer": "ipython3",
   "version": "3.11.4"
  },
  "orig_nbformat": 4
 },
 "nbformat": 4,
 "nbformat_minor": 2
}
