{
 "cells": [
  {
   "attachments": {},
   "cell_type": "markdown",
   "metadata": {},
   "source": [
    "Writing to a file"
   ]
  },
  {
   "cell_type": "code",
   "execution_count": 9,
   "metadata": {},
   "outputs": [],
   "source": [
    "my_file = open('my_file.txt', 'w')\n",
    "my_file.write('hello text file\\n')\n",
    "my_file.write('goodbye text file\\n')\n",
    "my_file.close()"
   ]
  },
  {
   "attachments": {},
   "cell_type": "markdown",
   "metadata": {},
   "source": [
    "Reading from a file"
   ]
  },
  {
   "cell_type": "code",
   "execution_count": 11,
   "metadata": {},
   "outputs": [
    {
     "name": "stdout",
     "output_type": "stream",
     "text": [
      "hello text file\n",
      "\n",
      "goodbye text file\n",
      "\n",
      "\n"
     ]
    }
   ],
   "source": [
    "my_file = open('my_file.txt', 'r')\n",
    "print(my_file.readline())\n",
    "print(my_file.readline())\n",
    "print(my_file.readline())\n",
    "my_file.close()"
   ]
  },
  {
   "cell_type": "code",
   "execution_count": 13,
   "metadata": {},
   "outputs": [
    {
     "name": "stdout",
     "output_type": "stream",
     "text": [
      "hello text file\n",
      "goodbye text file\n",
      "\n"
     ]
    }
   ],
   "source": [
    "print(open('my_file.txt').read())"
   ]
  },
  {
   "cell_type": "code",
   "execution_count": 14,
   "metadata": {},
   "outputs": [
    {
     "name": "stdout",
     "output_type": "stream",
     "text": [
      "hello text file\n",
      "goodbye text file\n"
     ]
    }
   ],
   "source": [
    "for line in open('my_file.txt'):\n",
    "    print(line, end='')"
   ]
  },
  {
   "attachments": {},
   "cell_type": "markdown",
   "metadata": {},
   "source": [
    "Writing and reading bytes"
   ]
  },
  {
   "cell_type": "code",
   "execution_count": 17,
   "metadata": {},
   "outputs": [],
   "source": [
    "data = open('data.bin', 'wb')\n",
    "data.write(bytes('hello world\\n', encoding='utf-8'))\n",
    "data.close()"
   ]
  },
  {
   "cell_type": "code",
   "execution_count": 21,
   "metadata": {},
   "outputs": [
    {
     "name": "stdout",
     "output_type": "stream",
     "text": [
      "b'hello world\\n'\n",
      "b'llo '\n",
      "111\n",
      "0b1101111\n"
     ]
    }
   ],
   "source": [
    "data = open('data.bin', 'rb').read()\n",
    "print(data)\n",
    "print(data[2:6])\n",
    "print(data[4:8][0])\n",
    "print(bin(data[4:8][0]))"
   ]
  },
  {
   "attachments": {},
   "cell_type": "markdown",
   "metadata": {},
   "source": [
    "Storing Python Objects in Files"
   ]
  },
  {
   "cell_type": "code",
   "execution_count": 24,
   "metadata": {},
   "outputs": [
    {
     "name": "stdout",
     "output_type": "stream",
     "text": [
      "{'name': 'bob', 'age': 32, 'jobs': ['dev', 'mgr']} [1, 2, 3] hello\n"
     ]
    }
   ],
   "source": [
    "empl = dict(\n",
    "    name='bob',\n",
    "    age=32,\n",
    "    jobs=['dev', 'mgr']\n",
    ")\n",
    "nums = [1, 2, 3]\n",
    "message = 'hello'\n",
    "print(empl, nums, message)"
   ]
  },
  {
   "cell_type": "code",
   "execution_count": 25,
   "metadata": {},
   "outputs": [],
   "source": [
    "python_data_file = open('data_file.txt', 'w')\n",
    "python_data_file.write(str(empl)+'\\n')\n",
    "python_data_file.write(str(nums)+'\\n')\n",
    "python_data_file.write(message+'\\n')\n",
    "python_data_file.close()"
   ]
  },
  {
   "cell_type": "code",
   "execution_count": 27,
   "metadata": {},
   "outputs": [
    {
     "name": "stdout",
     "output_type": "stream",
     "text": [
      "{'name': 'bob', 'age': 32, 'jobs': ['dev', 'mgr']}\n",
      "[1, 2, 3]\n",
      "hello\n",
      "\n"
     ]
    }
   ],
   "source": [
    "data = open('data_file.txt').read()\n",
    "print(data)"
   ]
  },
  {
   "cell_type": "code",
   "execution_count": 32,
   "metadata": {},
   "outputs": [
    {
     "name": "stdout",
     "output_type": "stream",
     "text": [
      "{'name': 'bob', 'age': 32, 'jobs': ['dev', 'mgr']} <class 'dict'>\n",
      "[1, 2, 3] <class 'list'>\n",
      "hello <class 'str'>\n"
     ]
    }
   ],
   "source": [
    "raw_lines = open('data_file.txt').readlines()\n",
    "objects = []\n",
    "for line in raw_lines:\n",
    "    try:\n",
    "        objects.append(eval(line))\n",
    "    except NameError:\n",
    "        objects.append(line.strip())\n",
    "for obj in objects:\n",
    "    print(obj, type(obj))\n"
   ]
  },
  {
   "cell_type": "code",
   "execution_count": 34,
   "metadata": {},
   "outputs": [],
   "source": [
    "import pickle\n",
    "pickle_file = open('data_file.pkl', 'wb')\n",
    "pickle.dump(empl, pickle_file)\n",
    "pickle_file.close()"
   ]
  },
  {
   "cell_type": "code",
   "execution_count": 36,
   "metadata": {},
   "outputs": [
    {
     "name": "stdout",
     "output_type": "stream",
     "text": [
      "{'name': 'bob', 'age': 32, 'jobs': ['dev', 'mgr']}\n"
     ]
    }
   ],
   "source": [
    "pickle_file = open('data_file.pkl', 'rb')\n",
    "pickle_data = pickle.load(pickle_file)\n",
    "print(pickle_data)\n",
    "pickle_file.close()"
   ]
  },
  {
   "cell_type": "code",
   "execution_count": 37,
   "metadata": {},
   "outputs": [
    {
     "data": {
      "text/plain": [
       "b'\\x80\\x04\\x951\\x00\\x00\\x00\\x00\\x00\\x00\\x00}\\x94(\\x8c\\x04name\\x94\\x8c\\x03bob\\x94\\x8c\\x03age\\x94K \\x8c\\x04jobs\\x94]\\x94(\\x8c\\x03dev\\x94\\x8c\\x03mgr\\x94eu.'"
      ]
     },
     "execution_count": 37,
     "metadata": {},
     "output_type": "execute_result"
    }
   ],
   "source": [
    "open('data_file.pkl', 'rb').read()"
   ]
  },
  {
   "attachments": {},
   "cell_type": "markdown",
   "metadata": {},
   "source": [
    "Reading and writing JSON"
   ]
  },
  {
   "cell_type": "code",
   "execution_count": 38,
   "metadata": {},
   "outputs": [],
   "source": [
    "import json"
   ]
  },
  {
   "cell_type": "code",
   "execution_count": 40,
   "metadata": {},
   "outputs": [
    {
     "name": "stdout",
     "output_type": "stream",
     "text": [
      "{'name': {'first': 'bob', 'last': 'smith'}, 'job': ['dev', 'mgr'], 'age': 30}\n"
     ]
    }
   ],
   "source": [
    "name = dict(first='bob', last='smith')\n",
    "rec = dict(name=name, job=['dev', 'mgr'], age=30)\n",
    "print(rec)"
   ]
  },
  {
   "cell_type": "code",
   "execution_count": 41,
   "metadata": {},
   "outputs": [],
   "source": [
    "s = json.dumps(rec)"
   ]
  },
  {
   "cell_type": "code",
   "execution_count": 42,
   "metadata": {},
   "outputs": [],
   "source": [
    "o = json.loads(s)"
   ]
  },
  {
   "cell_type": "code",
   "execution_count": 44,
   "metadata": {},
   "outputs": [
    {
     "data": {
      "text/plain": [
       "{'name': {'first': 'bob', 'last': 'smith'}, 'job': ['dev', 'mgr'], 'age': 30}"
      ]
     },
     "execution_count": 44,
     "metadata": {},
     "output_type": "execute_result"
    }
   ],
   "source": [
    "o"
   ]
  },
  {
   "cell_type": "code",
   "execution_count": 45,
   "metadata": {},
   "outputs": [],
   "source": [
    "json.dump(\n",
    "    rec, \n",
    "    fp=open('data_file.json', 'w'), \n",
    "    indent=4\n",
    ")"
   ]
  },
  {
   "cell_type": "code",
   "execution_count": 46,
   "metadata": {},
   "outputs": [
    {
     "name": "stdout",
     "output_type": "stream",
     "text": [
      "{\n",
      "    \"name\": {\n",
      "        \"first\": \"bob\",\n",
      "        \"last\": \"smith\"\n",
      "    },\n",
      "    \"job\": [\n",
      "        \"dev\",\n",
      "        \"mgr\"\n",
      "    ],\n",
      "    \"age\": 30\n",
      "}\n"
     ]
    }
   ],
   "source": [
    "print(open('data_file.json').read())"
   ]
  },
  {
   "cell_type": "code",
   "execution_count": 47,
   "metadata": {},
   "outputs": [
    {
     "name": "stdout",
     "output_type": "stream",
     "text": [
      "{'name': {'first': 'bob', 'last': 'smith'}, 'job': ['dev', 'mgr'], 'age': 30}\n"
     ]
    }
   ],
   "source": [
    "obj = json.load(open('data_file.json'))\n",
    "print(obj)"
   ]
  },
  {
   "cell_type": "code",
   "execution_count": 50,
   "metadata": {},
   "outputs": [],
   "source": [
    "import struct\n",
    "f = open('data.bin', 'wb')\n",
    "data = struct.pack('>i4sh', 7, b'spam', 8)\n",
    "f.write(data)\n",
    "f.close()"
   ]
  },
  {
   "cell_type": "code",
   "execution_count": 51,
   "metadata": {},
   "outputs": [
    {
     "data": {
      "text/plain": [
       "b'\\x00\\x00\\x00\\x07spam\\x00\\x08'"
      ]
     },
     "execution_count": 51,
     "metadata": {},
     "output_type": "execute_result"
    }
   ],
   "source": [
    "data"
   ]
  },
  {
   "cell_type": "code",
   "execution_count": 52,
   "metadata": {},
   "outputs": [
    {
     "data": {
      "text/plain": [
       "b'\\x00\\x00\\x00\\x07spam\\x00\\x08'"
      ]
     },
     "execution_count": 52,
     "metadata": {},
     "output_type": "execute_result"
    }
   ],
   "source": [
    "f = open('data.bin', 'rb')\n",
    "data = f.read()\n",
    "data"
   ]
  },
  {
   "cell_type": "code",
   "execution_count": 54,
   "metadata": {},
   "outputs": [
    {
     "name": "stdout",
     "output_type": "stream",
     "text": [
      "(7, b'spam', 8)\n"
     ]
    }
   ],
   "source": [
    "values = struct.unpack('>i4sh', data)\n",
    "print(values)"
   ]
  },
  {
   "cell_type": "code",
   "execution_count": null,
   "metadata": {},
   "outputs": [],
   "source": []
  }
 ],
 "metadata": {
  "kernelspec": {
   "display_name": ".venv",
   "language": "python",
   "name": "python3"
  },
  "language_info": {
   "codemirror_mode": {
    "name": "ipython",
    "version": 3
   },
   "file_extension": ".py",
   "mimetype": "text/x-python",
   "name": "python",
   "nbconvert_exporter": "python",
   "pygments_lexer": "ipython3",
   "version": "3.11.4"
  },
  "orig_nbformat": 4
 },
 "nbformat": 4,
 "nbformat_minor": 2
}
