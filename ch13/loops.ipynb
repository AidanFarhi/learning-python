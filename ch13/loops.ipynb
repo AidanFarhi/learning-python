{
 "cells": [
  {
   "attachments": {},
   "cell_type": "markdown",
   "metadata": {},
   "source": [
    "### While loops"
   ]
  },
  {
   "cell_type": "code",
   "execution_count": 2,
   "metadata": {},
   "outputs": [
    {
     "name": "stdout",
     "output_type": "stream",
     "text": [
      "spam pam am m "
     ]
    }
   ],
   "source": [
    "x = 'spam'\n",
    "while x:\n",
    "    print(x, end=' ')\n",
    "    x = x[1:]"
   ]
  },
  {
   "cell_type": "code",
   "execution_count": 3,
   "metadata": {},
   "outputs": [
    {
     "name": "stdout",
     "output_type": "stream",
     "text": [
      "0 1 2 3 4 5 6 7 8 9 "
     ]
    }
   ],
   "source": [
    "a, b = 0, 10\n",
    "while a < b:\n",
    "    print(a, end=' ')\n",
    "    a += 1"
   ]
  },
  {
   "attachments": {},
   "cell_type": "markdown",
   "metadata": {},
   "source": [
    "### `break`, `continue`, `pass` and Loop `else`"
   ]
  },
  {
   "attachments": {},
   "cell_type": "markdown",
   "metadata": {},
   "source": [
    "`break` - Jump out of closest enclosing loop\n",
    "\n",
    "`continue` - Jump to top of closest enclosing loop\n",
    "\n",
    "`pass` - Do nothing\n",
    "\n",
    "Loop `else` block - Run if the loop is exited normally"
   ]
  },
  {
   "attachments": {},
   "cell_type": "markdown",
   "metadata": {},
   "source": [
    "### General while loop format\n",
    "\n",
    "```\n",
    "while test:\n",
    "    statements\n",
    "    if test: break    # exit loop, skipping else\n",
    "    if test: continue # go to top of loop\n",
    "else:\n",
    "    statements        # run if no break is hit\n",
    "```"
   ]
  },
  {
   "attachments": {},
   "cell_type": "markdown",
   "metadata": {},
   "source": [
    "### `pass` in depth"
   ]
  },
  {
   "cell_type": "code",
   "execution_count": 9,
   "metadata": {},
   "outputs": [],
   "source": [
    "# pass is used as a placeholder\n",
    "def square(x, y):\n",
    "    pass\n",
    "\n",
    "def div_mod(x, y):\n",
    "    pass\n",
    "\n",
    "square(1, 2)\n",
    "div_mod(10, 3)"
   ]
  },
  {
   "cell_type": "code",
   "execution_count": 10,
   "metadata": {},
   "outputs": [
    {
     "name": "stdout",
     "output_type": "stream",
     "text": [
      "Ellipsis <class 'ellipsis'>\n"
     ]
    }
   ],
   "source": [
    "# ellipses can also be used\n",
    "def square(x, y):\n",
    "    ...\n",
    "\n",
    "def div_mod(x, y):\n",
    "    ...\n",
    "\n",
    "x = ... # ellipsis can be used instead of None\n",
    "print(x, type(x))"
   ]
  },
  {
   "attachments": {},
   "cell_type": "markdown",
   "metadata": {},
   "source": [
    "### `continue` in depth"
   ]
  },
  {
   "cell_type": "code",
   "execution_count": 11,
   "metadata": {},
   "outputs": [
    {
     "name": "stdout",
     "output_type": "stream",
     "text": [
      "8 6 4 2 0 "
     ]
    }
   ],
   "source": [
    "x = 10\n",
    "while x:\n",
    "    x -= 1\n",
    "    if x % 2 != 0: continue # if x is odd\n",
    "    print(x, end=' ')"
   ]
  },
  {
   "attachments": {},
   "cell_type": "markdown",
   "metadata": {},
   "source": [
    "### `break` in depth"
   ]
  },
  {
   "cell_type": "code",
   "execution_count": 1,
   "metadata": {},
   "outputs": [
    {
     "name": "stdout",
     "output_type": "stream",
     "text": [
      "Hello bob => 400\n"
     ]
    }
   ],
   "source": [
    "while True:\n",
    "    name = input('Enter name: ')\n",
    "    if name == 'stop': break\n",
    "    age = input('Enter age: ')\n",
    "    print('Hello', name, '=>', int(age) ** 2)"
   ]
  },
  {
   "attachments": {},
   "cell_type": "markdown",
   "metadata": {},
   "source": [
    "### Loop `else`"
   ]
  },
  {
   "cell_type": "code",
   "execution_count": 4,
   "metadata": {},
   "outputs": [],
   "source": [
    "y = 11"
   ]
  },
  {
   "cell_type": "code",
   "execution_count": 6,
   "metadata": {},
   "outputs": [
    {
     "name": "stdout",
     "output_type": "stream",
     "text": [
      "11 is prime\n"
     ]
    }
   ],
   "source": [
    "x = y // 2\n",
    "while x > 1:\n",
    "    if y % x == 0:\n",
    "        print(y, 'has factor', x)\n",
    "        break\n",
    "    x -= 1\n",
    "else: # this will run only if no break was executed\n",
    "    print(y, 'is prime')"
   ]
  },
  {
   "cell_type": "code",
   "execution_count": 10,
   "metadata": {},
   "outputs": [],
   "source": [
    "string_to_search = 'abcd'\n",
    "char_to_find = 'g'"
   ]
  },
  {
   "cell_type": "code",
   "execution_count": 11,
   "metadata": {},
   "outputs": [
    {
     "name": "stdout",
     "output_type": "stream",
     "text": [
      "not found...\n"
     ]
    }
   ],
   "source": [
    "while string_to_search:\n",
    "    if string_to_search[0] == char_to_find:\n",
    "        print('found!')\n",
    "        break\n",
    "    string_to_search = string_to_search[1:]\n",
    "else:\n",
    "    print('not found...')"
   ]
  },
  {
   "attachments": {},
   "cell_type": "markdown",
   "metadata": {},
   "source": [
    "### `for` Loops\n",
    "\n",
    "General structure\n",
    "\n",
    "```\n",
    "for target in object: # assign object items to target\n",
    "    statements\n",
    "    if test: break    # exit loop now, skip else\n",
    "    if test: continue # go to top loop now\n",
    "else:\n",
    "    statements        # if break has not been executed    \n",
    "```"
   ]
  },
  {
   "cell_type": "code",
   "execution_count": 12,
   "metadata": {},
   "outputs": [
    {
     "name": "stdout",
     "output_type": "stream",
     "text": [
      "spam eggs ham "
     ]
    }
   ],
   "source": [
    "for x in ['spam', 'eggs', 'ham']:\n",
    "    print(x, end=' ')"
   ]
  },
  {
   "cell_type": "code",
   "execution_count": 13,
   "metadata": {},
   "outputs": [
    {
     "name": "stdout",
     "output_type": "stream",
     "text": [
      "10\n"
     ]
    }
   ],
   "source": [
    "sum = 0\n",
    "for x in [1, 2, 3 , 4]:\n",
    "    sum += x\n",
    "print(sum)"
   ]
  },
  {
   "cell_type": "code",
   "execution_count": 14,
   "metadata": {},
   "outputs": [
    {
     "name": "stdout",
     "output_type": "stream",
     "text": [
      "24\n"
     ]
    }
   ],
   "source": [
    "product = 1\n",
    "for x in [1, 2, 3, 4]:\n",
    "    product *= x\n",
    "print(product)"
   ]
  },
  {
   "cell_type": "code",
   "execution_count": 15,
   "metadata": {},
   "outputs": [
    {
     "name": "stdout",
     "output_type": "stream",
     "text": [
      "a b c d "
     ]
    }
   ],
   "source": [
    "s = 'abcd'\n",
    "for x in s: print(x, end=' ')"
   ]
  },
  {
   "cell_type": "code",
   "execution_count": 16,
   "metadata": {},
   "outputs": [
    {
     "name": "stdout",
     "output_type": "stream",
     "text": [
      "1 2\n",
      "3 4\n",
      "5 6\n"
     ]
    }
   ],
   "source": [
    "t = [(1, 2), (3, 4), (5, 6)]\n",
    "for (a, b) in t:\n",
    "    print(a, b)"
   ]
  },
  {
   "cell_type": "code",
   "execution_count": 18,
   "metadata": {},
   "outputs": [
    {
     "name": "stdout",
     "output_type": "stream",
     "text": [
      "a => 1\n",
      "b => 2\n",
      "c => 3\n"
     ]
    }
   ],
   "source": [
    "d = dict(zip('abc', '123'))\n",
    "for k in d: print(k, '=>', d[k])"
   ]
  },
  {
   "cell_type": "code",
   "execution_count": 19,
   "metadata": {},
   "outputs": [
    {
     "data": {
      "text/plain": [
       "[('a', '1'), ('b', '2'), ('c', '3')]"
      ]
     },
     "execution_count": 19,
     "metadata": {},
     "output_type": "execute_result"
    }
   ],
   "source": [
    "list(d.items())"
   ]
  },
  {
   "cell_type": "code",
   "execution_count": 21,
   "metadata": {},
   "outputs": [
    {
     "name": "stdout",
     "output_type": "stream",
     "text": [
      "1 2\n",
      "3 4\n",
      "5 6\n"
     ]
    }
   ],
   "source": [
    "for both in t:\n",
    "    a, b = both\n",
    "    print(a, b)"
   ]
  },
  {
   "cell_type": "code",
   "execution_count": 22,
   "metadata": {},
   "outputs": [
    {
     "name": "stdout",
     "output_type": "stream",
     "text": [
      "1 2 3\n"
     ]
    }
   ],
   "source": [
    "((a, b), c) = ((1, 2), 3)\n",
    "print(a, b, c)"
   ]
  },
  {
   "cell_type": "code",
   "execution_count": 23,
   "metadata": {},
   "outputs": [
    {
     "name": "stdout",
     "output_type": "stream",
     "text": [
      "1 2 3\n",
      "x y 6\n"
     ]
    }
   ],
   "source": [
    "l = [([1, 2], 3), ['xy', 6]]\n",
    "for ((a, b), c) in l:\n",
    "    print(a, b, c)"
   ]
  },
  {
   "cell_type": "code",
   "execution_count": 24,
   "metadata": {},
   "outputs": [
    {
     "name": "stdout",
     "output_type": "stream",
     "text": [
      "1 [2, 3] 4\n"
     ]
    }
   ],
   "source": [
    "a, *b, c = (1, 2, 3, 4)\n",
    "print(a, b, c)"
   ]
  },
  {
   "attachments": {},
   "cell_type": "markdown",
   "metadata": {},
   "source": [
    "### Nested for loops"
   ]
  },
  {
   "cell_type": "code",
   "execution_count": 26,
   "metadata": {},
   "outputs": [
    {
     "name": "stdout",
     "output_type": "stream",
     "text": [
      "(4, 5) was found\n",
      "3.14 not found\n"
     ]
    }
   ],
   "source": [
    "items = ['aaa', 111, (4, 5), 2.01]\n",
    "tests = [(4, 5), 3.14]\n",
    "for t in tests:\n",
    "    for i in items:\n",
    "        if i == t:\n",
    "            print(t, 'was found')\n",
    "            break\n",
    "    else:\n",
    "        print(t, 'not found')"
   ]
  },
  {
   "cell_type": "code",
   "execution_count": 28,
   "metadata": {},
   "outputs": [
    {
     "name": "stdout",
     "output_type": "stream",
     "text": [
      "(4, 5) was found\n",
      "3.14 was not found\n"
     ]
    }
   ],
   "source": [
    "for t in tests:\n",
    "    if t in items:\n",
    "        print(t, 'was found')\n",
    "    else:\n",
    "        print(t, 'was not found')"
   ]
  },
  {
   "cell_type": "code",
   "execution_count": 29,
   "metadata": {},
   "outputs": [
    {
     "name": "stdout",
     "output_type": "stream",
     "text": [
      "['s', 'a', 'm']\n"
     ]
    }
   ],
   "source": [
    "seq1 = 'spam'\n",
    "seq2 = 'scam'\n",
    "res = []\n",
    "for x in seq1:\n",
    "    if x in seq2:\n",
    "        res.append(x)\n",
    "print(res)"
   ]
  },
  {
   "cell_type": "code",
   "execution_count": 30,
   "metadata": {},
   "outputs": [
    {
     "name": "stdout",
     "output_type": "stream",
     "text": [
      "['s', 'a', 'm']\n"
     ]
    }
   ],
   "source": [
    "res = [x for x in seq1 if x in seq2]\n",
    "print(res)"
   ]
  },
  {
   "attachments": {},
   "cell_type": "markdown",
   "metadata": {},
   "source": [
    "### Reading files line-by-line"
   ]
  },
  {
   "cell_type": "code",
   "execution_count": 32,
   "metadata": {},
   "outputs": [],
   "source": [
    "with open('test.csv', 'w') as csv_file:\n",
    "    csv_file.write('col1,col2,col3\\n') # write header\n",
    "    for i in range(10):\n",
    "        csv_file.write(f'{i+1},{i+2},{i+3}\\n')"
   ]
  },
  {
   "cell_type": "code",
   "execution_count": 36,
   "metadata": {},
   "outputs": [
    {
     "name": "stdout",
     "output_type": "stream",
     "text": [
      "col1,col2,col3\n",
      "1,2,3\n",
      "2,3,4\n",
      "3,4,5\n",
      "4,5,6\n",
      "5,6,7\n",
      "6,7,8\n",
      "7,8,9\n",
      "8,9,10\n",
      "9,10,11\n",
      "10,11,12\n"
     ]
    }
   ],
   "source": [
    "# read file line by line\n",
    "f = open('test.csv')\n",
    "for l in f:\n",
    "    print(l, end='')\n",
    "f.close()"
   ]
  },
  {
   "cell_type": "code",
   "execution_count": 38,
   "metadata": {},
   "outputs": [
    {
     "name": "stdout",
     "output_type": "stream",
     "text": [
      "c\n",
      "o\n",
      "l\n",
      "1\n",
      ",\n",
      "c\n",
      "o\n",
      "l\n",
      "2\n",
      ",\n",
      "c\n",
      "o\n",
      "l\n",
      "3\n",
      "\n",
      "\n",
      "1\n",
      ",\n",
      "2\n",
      ",\n",
      "3\n",
      "\n",
      "\n",
      "2\n",
      ",\n",
      "3\n",
      ",\n",
      "4\n",
      "\n",
      "\n",
      "3\n",
      ",\n",
      "4\n",
      ",\n",
      "5\n",
      "\n",
      "\n",
      "4\n",
      ",\n",
      "5\n",
      ",\n",
      "6\n",
      "\n",
      "\n",
      "5\n",
      ",\n",
      "6\n",
      ",\n",
      "7\n",
      "\n",
      "\n",
      "6\n",
      ",\n",
      "7\n",
      ",\n",
      "8\n",
      "\n",
      "\n",
      "7\n",
      ",\n",
      "8\n",
      ",\n",
      "9\n",
      "\n",
      "\n",
      "8\n",
      ",\n",
      "9\n",
      ",\n",
      "1\n",
      "0\n",
      "\n",
      "\n",
      "9\n",
      ",\n",
      "1\n",
      "0\n",
      ",\n",
      "1\n",
      "1\n",
      "\n",
      "\n",
      "1\n",
      "0\n",
      ",\n",
      "1\n",
      "1\n",
      ",\n",
      "1\n",
      "2\n",
      "\n",
      "\n"
     ]
    }
   ],
   "source": [
    "# read file character by character\n",
    "f = open('test.csv')\n",
    "while True:\n",
    "    char = f.read(1)\n",
    "    if not char: break\n",
    "    print(char)\n",
    "f.close()"
   ]
  },
  {
   "cell_type": "code",
   "execution_count": 39,
   "metadata": {},
   "outputs": [
    {
     "name": "stdout",
     "output_type": "stream",
     "text": [
      "b'col1,col2,'\n",
      "b'col3\\n1,2,3'\n",
      "b'\\n2,3,4\\n3,4'\n",
      "b',5\\n4,5,6\\n5'\n",
      "b',6,7\\n6,7,8'\n",
      "b'\\n7,8,9\\n8,9'\n",
      "b',10\\n9,10,1'\n",
      "b'1\\n10,11,12'\n",
      "b'\\n'\n"
     ]
    }
   ],
   "source": [
    "# read file in chunks\n",
    "f = open('test.csv', 'rb')\n",
    "while True:\n",
    "    chunk = f.read(10)\n",
    "    if not chunk: break\n",
    "    print(chunk)"
   ]
  },
  {
   "attachments": {},
   "cell_type": "markdown",
   "metadata": {},
   "source": [
    "### Using `range()`"
   ]
  },
  {
   "cell_type": "code",
   "execution_count": 40,
   "metadata": {},
   "outputs": [
    {
     "data": {
      "text/plain": [
       "([0, 1, 2, 3, 4], [2, 3, 4], [0, 2, 4, 6, 8])"
      ]
     },
     "execution_count": 40,
     "metadata": {},
     "output_type": "execute_result"
    }
   ],
   "source": [
    "list(range(5)), list(range(2, 5)), list(range(0, 10, 2))"
   ]
  },
  {
   "cell_type": "code",
   "execution_count": 41,
   "metadata": {},
   "outputs": [
    {
     "data": {
      "text/plain": [
       "[5, 4, 3, 2, 1, 0, -1, -2, -3, -4]"
      ]
     },
     "execution_count": 41,
     "metadata": {},
     "output_type": "execute_result"
    }
   ],
   "source": [
    "list(range(5, -5, -1))"
   ]
  },
  {
   "cell_type": "code",
   "execution_count": 42,
   "metadata": {},
   "outputs": [
    {
     "name": "stdout",
     "output_type": "stream",
     "text": [
      "0 Python\n",
      "1 Python\n",
      "2 Python\n"
     ]
    }
   ],
   "source": [
    "for i in range(3):\n",
    "    print(i, 'Python')"
   ]
  },
  {
   "cell_type": "code",
   "execution_count": 43,
   "metadata": {},
   "outputs": [
    {
     "name": "stdout",
     "output_type": "stream",
     "text": [
      "spam"
     ]
    }
   ],
   "source": [
    "x = 'spam'\n",
    "for i in range(len(x)):\n",
    "    print(x[i], end='')"
   ]
  },
  {
   "cell_type": "code",
   "execution_count": 44,
   "metadata": {},
   "outputs": [
    {
     "name": "stdout",
     "output_type": "stream",
     "text": [
      "pams amsp mspa spam "
     ]
    }
   ],
   "source": [
    "s = 'spam'\n",
    "for i in range(len(s)):\n",
    "    s = s[1:] + s[:1]\n",
    "    print(s, end=' ')"
   ]
  },
  {
   "cell_type": "code",
   "execution_count": 45,
   "metadata": {},
   "outputs": [
    {
     "name": "stdout",
     "output_type": "stream",
     "text": [
      "spam pams amsp mspa "
     ]
    }
   ],
   "source": [
    "for i in range(len(s)):\n",
    "    x = s[i:] + s[:i]\n",
    "    print(x, end=' ')"
   ]
  },
  {
   "cell_type": "code",
   "execution_count": 46,
   "metadata": {},
   "outputs": [
    {
     "data": {
      "text/plain": [
       "[0, 2, 4, 6, 8]"
      ]
     },
     "execution_count": 46,
     "metadata": {},
     "output_type": "execute_result"
    }
   ],
   "source": [
    "list(range(0, 10, 2))"
   ]
  },
  {
   "cell_type": "code",
   "execution_count": 47,
   "metadata": {},
   "outputs": [
    {
     "name": "stdout",
     "output_type": "stream",
     "text": [
      "0 2 4 6 8 "
     ]
    }
   ],
   "source": [
    "l = list(range(10))\n",
    "for n in l[::2]:\n",
    "    print(n, end=' ')"
   ]
  },
  {
   "attachments": {},
   "cell_type": "markdown",
   "metadata": {},
   "source": [
    "### List comprehension (intro)"
   ]
  },
  {
   "cell_type": "code",
   "execution_count": 51,
   "metadata": {},
   "outputs": [
    {
     "name": "stdout",
     "output_type": "stream",
     "text": [
      "[0, 1, 2, 3, 4, 5, 6, 7, 8, 9]\n"
     ]
    }
   ],
   "source": [
    "l = list(range(10))\n",
    "print(l)"
   ]
  },
  {
   "cell_type": "code",
   "execution_count": 52,
   "metadata": {},
   "outputs": [
    {
     "name": "stdout",
     "output_type": "stream",
     "text": [
      "[10, 11, 12, 13, 14, 15, 16, 17, 18, 19]\n"
     ]
    }
   ],
   "source": [
    "l = [n + 10 for n in l]\n",
    "print(l)"
   ]
  },
  {
   "attachments": {},
   "cell_type": "markdown",
   "metadata": {},
   "source": [
    "### `zip()` and `map()`"
   ]
  },
  {
   "cell_type": "code",
   "execution_count": 54,
   "metadata": {},
   "outputs": [
    {
     "name": "stdout",
     "output_type": "stream",
     "text": [
      "[0, 1, 2, 3] ['a', 'b', 'c', 'd']\n"
     ]
    }
   ],
   "source": [
    "l1 = list(range(4))\n",
    "l2 = list('abcd')\n",
    "print(l1, l2)"
   ]
  },
  {
   "cell_type": "code",
   "execution_count": 55,
   "metadata": {},
   "outputs": [
    {
     "data": {
      "text/plain": [
       "[(0, 'a'), (1, 'b'), (2, 'c'), (3, 'd')]"
      ]
     },
     "execution_count": 55,
     "metadata": {},
     "output_type": "execute_result"
    }
   ],
   "source": [
    "list(zip(l1, l2))"
   ]
  },
  {
   "cell_type": "code",
   "execution_count": 56,
   "metadata": {},
   "outputs": [
    {
     "name": "stdout",
     "output_type": "stream",
     "text": [
      "0 -> a\n",
      "1 -> b\n",
      "2 -> c\n",
      "3 -> d\n"
     ]
    }
   ],
   "source": [
    "for x, y in zip(l1, l2):\n",
    "    print(x, '->', y)"
   ]
  },
  {
   "cell_type": "code",
   "execution_count": 57,
   "metadata": {},
   "outputs": [
    {
     "data": {
      "text/plain": [
       "[115, 112, 97, 109]"
      ]
     },
     "execution_count": 57,
     "metadata": {},
     "output_type": "execute_result"
    }
   ],
   "source": [
    "list(map(ord, 'spam'))"
   ]
  },
  {
   "cell_type": "code",
   "execution_count": 58,
   "metadata": {},
   "outputs": [
    {
     "data": {
      "text/plain": [
       "[0, 2, 4, 6, 8]"
      ]
     },
     "execution_count": 58,
     "metadata": {},
     "output_type": "execute_result"
    }
   ],
   "source": [
    "l = list(range(5))\n",
    "list(map(lambda x: x * 2, l))"
   ]
  },
  {
   "cell_type": "code",
   "execution_count": 59,
   "metadata": {},
   "outputs": [
    {
     "name": "stdout",
     "output_type": "stream",
     "text": [
      "[('spam', 1), ('eggs', 3), ('toast', 5)]\n"
     ]
    }
   ],
   "source": [
    "keys = ['spam', 'eggs', 'toast']\n",
    "vals = [1, 3, 5]\n",
    "print(list(zip(keys, vals)))"
   ]
  },
  {
   "cell_type": "code",
   "execution_count": 60,
   "metadata": {},
   "outputs": [
    {
     "name": "stdout",
     "output_type": "stream",
     "text": [
      "{'spam': 1, 'eggs': 3, 'toast': 5}\n"
     ]
    }
   ],
   "source": [
    "d = dict(zip(keys, vals))\n",
    "print(d)"
   ]
  },
  {
   "attachments": {},
   "cell_type": "markdown",
   "metadata": {},
   "source": [
    "### `enumerate()`"
   ]
  },
  {
   "cell_type": "code",
   "execution_count": 61,
   "metadata": {},
   "outputs": [
    {
     "name": "stdout",
     "output_type": "stream",
     "text": [
      "s appears at offset 0\n",
      "p appears at offset 1\n",
      "a appears at offset 2\n",
      "m appears at offset 3\n"
     ]
    }
   ],
   "source": [
    "# oof\n",
    "s = 'spam'\n",
    "offset = 0\n",
    "for item in s:\n",
    "    print(item, 'appears at offset', offset)\n",
    "    offset += 1"
   ]
  },
  {
   "cell_type": "code",
   "execution_count": 62,
   "metadata": {},
   "outputs": [
    {
     "name": "stdout",
     "output_type": "stream",
     "text": [
      "s appears at offset 0\n",
      "p appears at offset 1\n",
      "a appears at offset 2\n",
      "m appears at offset 3\n"
     ]
    }
   ],
   "source": [
    "# much better...\n",
    "for i, item in enumerate(s):\n",
    "    print(item, 'appears at offset', i)"
   ]
  },
  {
   "cell_type": "code",
   "execution_count": 65,
   "metadata": {},
   "outputs": [
    {
     "name": "stdout",
     "output_type": "stream",
     "text": [
      "(0, 's')\n",
      "(1, 'p')\n",
      "(2, 'a')\n",
      "(3, 'm')\n"
     ]
    }
   ],
   "source": [
    "e = enumerate(s)\n",
    "print(next(e))\n",
    "print(next(e))\n",
    "print(next(e))\n",
    "print(next(e))"
   ]
  },
  {
   "cell_type": "code",
   "execution_count": 70,
   "metadata": {},
   "outputs": [],
   "source": [
    "import os"
   ]
  },
  {
   "cell_type": "code",
   "execution_count": 71,
   "metadata": {},
   "outputs": [
    {
     "name": "stdout",
     "output_type": "stream",
     "text": [
      "loops.ipynb\n",
      "\n"
     ]
    }
   ],
   "source": [
    "f = os.popen('ls')\n",
    "print(f.readline())\n",
    "f.close()"
   ]
  },
  {
   "cell_type": "code",
   "execution_count": 72,
   "metadata": {},
   "outputs": [
    {
     "name": "stdout",
     "output_type": "stream",
     "text": [
      "loops.ipynb\n",
      "test.csv\n"
     ]
    }
   ],
   "source": [
    "for line in os.popen('ls'):\n",
    "    print(line.rstrip())"
   ]
  },
  {
   "cell_type": "code",
   "execution_count": 73,
   "metadata": {},
   "outputs": [
    {
     "name": "stderr",
     "output_type": "stream",
     "text": [
      "sh: systeminfo: command not found\n"
     ]
    },
    {
     "data": {
      "text/plain": [
       "32512"
      ]
     },
     "execution_count": 73,
     "metadata": {},
     "output_type": "execute_result"
    }
   ],
   "source": [
    "os.system('systeminfo')"
   ]
  },
  {
   "cell_type": "code",
   "execution_count": 75,
   "metadata": {},
   "outputs": [
    {
     "name": "stdout",
     "output_type": "stream",
     "text": [
      "b'<!DOCTYPE HTML PUBLIC \"-//W3C//DTD HTML 4.01 Transitional//EN\" \"http://www.w3.org/TR/html4/loose.dtd\">\\n'\n",
      "b'\\n'\n",
      "b'<!--GENHTML INSERT ^^ ================================================================-->\\n'\n",
      "b'<!--\\n'\n",
      "b'12/15: Add a doctype spec on line 1 so IE does fixed footer positioning at bottom.\\n'\n",
      "b'But use HTML 4 (not 5) spec, so images in tables look as they did with no doctype.\\n'\n",
      "b'Makes some things render diff (e.g, tables at top, and having hdrs), but no worse.\\n'\n",
      "b'More details: https://en.wikipedia.org/wiki/Quirks_mode#Comparison_of_document_types.\\n'\n",
      "b'-->\\n'\n",
      "b'<!--END INSERT========================================================================-->\\n'\n",
      "b'\\n'\n",
      "b'\\n'\n",
      "b'<HTML>\\n'\n",
      "b'\\n'\n",
      "b'<HEAD>\\n'\n",
      "b'\\n'\n",
      "b'<!--GENHTML INSERT====================================================================-->\\n'\n",
      "b'\\n'\n",
      "b'<meta http-equiv=\"Content-Type\" content=\"text/html; charset=UTF-8\">\\n'\n",
      "b'\\n'\n",
      "b'<!--\\n'\n",
      "b'For this file only: UTF-8 Unicode encoding, for non-ASCII or non-English characters.\\n'\n",
      "b'If omitted, browsers may guess, but often fall back on US-ASCII or user settings.\\n'\n",
      "b'Update Dec-2018: move the <meta> encoding declaration above this comment, and \\n'\n",
      "b'the _META_ genhtml tag to the top of <head> if needed, so <meta> is in the first \\n'\n",
      "b'1024 bytes of the file per HTML5 standard.  Nonconforming pages work fine in all \\n'\n",
      "b'20+ browsers tested, though Firefox issues a warning in its web console, and some\\n'\n",
      "b'may restart the page parse - a minor performance penalty.  Not an issue in thumbspage \\n'\n",
      "b\"output, app user guides, showcode pages, or unzipped programs' Apache index pages. \\n\"\n",
      "b'-->\\n'\n",
      "b'<!--END INSERT========================================================================-->\\n'\n",
      "b'\\n'\n",
      "b'\\n'\n",
      "b'<!--GENHTML INSERT====================================================================-->\\n'\n",
      "b'<!--\\n'\n",
      "b\"Recoded Aug-18 to use relative path, after broken by https:// conversion: can't mix \\n\"\n",
      "b'http:// page resources (see .htaccess note).  This required regenerating and uploading \\n'\n",
      "b'all .html files, but not hundreds of manual page edits - genhtml works!  Formerly \\n'\n",
      "b'used ICON-DEFAULT, which has now-dated docs on icon links and filetypes in general.\\n'\n",
      "b'An icon file in the root folder suffices on some (but not all) web servers.\\n'\n",
      "b'-->\\n'\n",
      "b'\\n'\n",
      "b'<link rel=\"shortcut icon\" type=\"image/x-icon\" href=\"favicon.ico\" />\\n'\n",
      "b'\\n'\n",
      "b'<!--END INSERT========================================================================-->\\n'\n",
      "b'\\n'\n",
      "b'\\n'\n",
      "b'<!--GENHTML INSERT====================================================================-->\\n'\n",
      "b'<!--\\n'\n",
      "b'7/6/14: Google Analytics JavaScript (JS) code in <HEAD> (normally) - in two flavors.\\n'\n",
      "b'Used only to prioritize high-traffic pages for dev work, iff JS and tracker enabled. \\n'\n",
      "b'\\n'\n",
      "b\"The former/defunct training site's id: ga('create', 'UA-52578333-1', 'auto').\\n\"\n",
      "b\"The book site's id, now used for all:  ga('create', 'UA-52579036-1', 'auto').\\n\"\n",
      "b'JS is also used if enabled for thumbspage galleries, Top buttons, TOCs, etc.\\n'\n",
      "b'\\n'\n",
      "b'Jun-2019: tell Google Analytics to anonymize IP address on receipt for privacy.\\n'\n",
      "b'More: https://developers.google.com/analytics/devguides/collection/analyticsjs/.\\n'\n",
      "b'\\n'\n",
      "b'Oct-2022: install a GA4 tag (i.e., script) alongside the prior UA tag.  UA tags\\n'\n",
      "b\"will stop collecting data in 2023.  It's okay to use both until the cutover (and\\n\"\n",
      "b'Google advises doing so), but the UA tag will be pointless after that and should\\n'\n",
      "b'be removed.  This handles genhtml-insert clients; others get tags by running\\n'\n",
      "b'insert-analytics.py in package-publishing scripts.  Also per Google: \"In Google \\n'\n",
      "b'Analytics 4, IP anonymization is not necessary since IP addresses are not logged\\n'\n",
      "b'or stored\".  Let\\'s hope so... -->\\n'\n",
      "b'\\n'\n",
      "b'\\n'\n",
      "b'<!-- 1) Universal Analytics tag (custom): stops collecting data on Jul-1-2023 -->\\n'\n",
      "b'\\n'\n",
      "b'<SCRIPT>\\n'\n",
      "b'  // Start async JS-file fetch, if not already cached\\n'\n",
      "b'\\n'\n",
      "b\"  (function(i,s,o,g,r,a,m){i['GoogleAnalyticsObject']=r;i[r]=i[r]||function(){\\n\"\n",
      "b'  (i[r].q=i[r].q||[]).push(arguments)},i[r].l=1*new Date();a=s.createElement(o),\\n'\n",
      "b'  m=s.getElementsByTagName(o)[0];a.async=1;a.src=g;m.parentNode.insertBefore(a,m)\\n'\n",
      "b\"  })(window,document,'script','//www.google-analytics.com/analytics.js','ga');\\n\"\n",
      "b'\\n'\n",
      "b'  // Queue actions to run in order after async JS-file fetch finished\\n'\n",
      "b'\\n'\n",
      "b\"  ga('create', 'UA-52579036-1', 'auto');       // Create tracker object (and queue)\\n\"\n",
      "b\"  ga('set', 'anonymizeIp', true);              // Anonymize IP addr (&aip) [Jun-2019]\\n\"\n",
      "b\"  ga('send', 'pageview');                      // Send page-view event now \\n\"\n",
      "b'</SCRIPT>\\n'\n",
      "b'\\n'\n",
      "b'\\n'\n",
      "b'<!-- 2) Google Analytics 4 tag: added to site Oct-2022 (okay to keep UA tag) -->\\n'\n",
      "b'\\n'\n",
      "b'<!-- Google tag (gtag.js) -->\\n'\n",
      "b'<script async src=\"https://www.googletagmanager.com/gtag/js?id=G-J8CTEZHX3L\"></script>\\n'\n",
      "b'<script>\\n'\n",
      "b'  window.dataLayer = window.dataLayer || [];\\n'\n",
      "b'  function gtag(){dataLayer.push(arguments);}\\n'\n",
      "b\"  gtag('js', new Date());\\n\"\n",
      "b'\\n'\n",
      "b\"  gtag('config', 'G-J8CTEZHX3L');\\n\"\n",
      "b'</script>\\n'\n",
      "b'\\n'\n",
      "b'<!--END INSERT========================================================================-->\\n'\n",
      "b'\\n'\n",
      "b'\\n'\n",
      "b'<!--GENHTML INSERT====================================================================-->\\n'\n",
      "b'<!--this insert serves *TWO* purposes: stylesheet and mobile viewport-->\\n'\n",
      "b'\\n'\n",
      "b'<!--\\n'\n",
      "b'Nov-15: CSS file, code in <HEAD>, for fonts, borders, navbars, code, etc.\\n'\n",
      "b'This could also use an in-page <STYLE> sheet, as genhtml pastes any text.\\n'\n",
      "b'-->\\n'\n",
      "b'\\n'\n",
      "b'<link rel=\"stylesheet\" type=\"text/css\" href=\"_main.css\">\\n'\n",
      "b'\\n'\n",
      "b'<!--\\n'\n",
      "b\"Feb-18: Add a mobile-friendly viewport tag to every page's HEAD.\\n\"\n",
      "b'Fits content to device width, no zoom (user may), impacts MANY formats.\\n'\n",
      "b'Extend STYLE instead of adding a new insert to avoid all-page updates.\\n'\n",
      "b'Mobile support required other redesign: toolbar, code blocks, images,... \\n'\n",
      "b'-->\\n'\n",
      "b' \\n'\n",
      "b'<meta name=\"viewport\" content=\"width=device-width, initial-scale=1.0\">\\n'\n",
      "b'\\n'\n",
      "b'<!--END INSERT========================================================================-->\\n'\n",
      "b'\\n'\n",
      "b'\\n'\n",
      "b'<STYLE>\\n'\n",
      "b'    \\n'\n",
      "b'/*------------------------------------------------------------------------------------\\n'\n",
      "b'BANNER FONT - punt here: too jarring to go to subpages with larger title font;\\n'\n",
      "b'see also similar site-wide option in _main.css (not used), and training-main.css;\\n'\n",
      "b'\\n'\n",
      "b'H1 {                         \\n'\n",
      "b'    font-size: 125%;                * 0..360; alt: vw size specs, but not in all wb *\\n'\n",
      "b'}\\n'\n",
      "b'\\n'\n",
      "b'@media screen and (min-width: 361px) {\\n'\n",
      "b'H1 {                         \\n'\n",
      "b'    font-size: 160%;                * 361..480 *\\n'\n",
      "b'}\\n'\n",
      "b'}\\n'\n",
      "b'\\n'\n",
      "b'@media screen and (min-width: 481px) {\\n'\n",
      "b'H1 {                         \\n'\n",
      "b'    font-size: 200%;                * 481+ (seems 200%) *\\n'\n",
      "b'}\\n'\n",
      "b'}\\n'\n",
      "b'--------------------------------------------------------------------------------------*/\\n'\n",
      "b'\\n'\n",
      "b'</STYLE>\\n'\n",
      "b'\\n'\n",
      "b'\\n'\n",
      "b'\\n'\n",
      "b'<!-- NOT full page, post fixed toolbar, border via .css: should match book-links page -->\\n'\n",
      "b'<!-- <BODY BGCOLOR=white> -->\\n'\n",
      "b'\\n'\n",
      "b'<STYLE>\\n'\n",
      "b'\\n'\n",
      "b'/*------------------------------------------------------------------------------------ \\n'\n",
      "b'Feb-2021: try a dark-mode experiment, this page only (little text here - only);\\n'\n",
      "b\"really requires a fuller redesign, and this won't match any other pages on the site,\\n\"\n",
      "b'but the white on most of this page is starting to seem jarring on dark macos/phones... \\n'\n",
      "b'Tries: 000000=black, 202020=darkgrey, 202024=bluetint, 272727=lighter, FFFFFF=white.\\n'\n",
      "b'Nov21: redesigned here, and books-index page now uses the same background colors.\\n'\n",
      "b'--------------------------------------------------------------------------------------*/\\n'\n",
      "b'\\n'\n",
      "b'/* default: light, no preference, or not supported by device|browser */\\n'\n",
      "b'BODY {\\n'\n",
      "b'    background-color: white;           /* original => replaced */\\n'\n",
      "b'}\\n'\n",
      "b'\\n'\n",
      "b'/* default: drop white everywhere: light grey is better, use it even for light mode */\\n'\n",
      "b'BODY {\\n'\n",
      "b'    background-color: #C0C0C0;         /* theme=light|none: light grey */\\n'\n",
      "b'}\\n'\n",
      "b'\\n'\n",
      "b'\\n'\n",
      "b'/* dark mode set on device running the browser (else light grey) */\\n'\n",
      "b'@media (prefers-color-scheme: dark) { \\n'\n",
      "b'    BODY {\\n'\n",
      "b'        background-color: #808080;     /* theme=dark: slightly darker gray */\\n'\n",
      "b'    }\\n'\n",
      "b'}\\n'\n",
      "b'\\n'\n",
      "b'\\n'\n",
      "b'/* Nov21: on second thought, use dark theme always - too hard to design for both */\\n'\n",
      "b'BODY {\\n'\n",
      "b'    background-color: #808080;         /* always dark now */\\n'\n",
      "b'}\\n'\n",
      "b'\\n'\n",
      "b'\\n'\n",
      "b'/*------------------------------------------------------------------------------------*/\\n'\n",
      "b'\\n'\n",
      "b'</STYLE>\\n'\n",
      "b'\\n'\n",
      "b'\\n'\n",
      "b'\\n'\n",
      "b\"<TITLE>Mark Lutz's Books, Software, Etc.</TITLE>\\n\"\n",
      "b'\\n'\n",
      "b'</HEAD>\\n'\n",
      "b'\\n'\n",
      "b'<BODY>    <!-- color from element style above -->\\n'\n",
      "b'\\n'\n",
      "b'<P>\\n'\n",
      "b'\\n'\n",
      "b'\\n'\n",
      "b'\\n'\n",
      "b'\\n'\n",
      "b'<!-- START COPY: same in index.html/index-book-links.html (copy from/to) -->\\n'\n",
      "b\"<!-- CAUTION: the 'card' now differs in index/books: index sets a max-width -->\\n\"\n",
      "b'\\n'\n",
      "b'<!--\\n'\n",
      "b'Aug-2020: Add a border around the colored content section, else it can seem as if \\n'\n",
      "b\"part of the page is missing.  This achieves the 'index card' metaphor better.  Uses \\n\"\n",
      "b\"'1px' instead of 'thin' - Chrome's vanishing hr/img issue doesn't happen here, '1px'\\n\"\n",
      "b\"is 'thin' on desktop, and 'thin' is too thin to match the toolbar's border on mobile. \\n\"\n",
      "b'\\n'\n",
      "b'This costs 2px, which may matter on very small mobiles, but okay on 4\" ipod tested.\\n'\n",
      "b\"Also tried lighter 'ivory' instead of 'cornsilk', but too cold on most displays.\\n\"\n",
      "b'\\n'\n",
      "b\"  Update: changed whole card to 'ivory; in aug-2021, here and on book-links page;\\n\"\n",
      "b\"  'cornsilk' is too saturated and yellow-y on some displays (only).  A different\\n\"\n",
      "b'  theme altogether would be better, but color is very hard to do portably. \\n'\n",
      "b'\\n'\n",
      "b'Opted to also use a border in index-book-links, though iffy: it has more page content,\\n'\n",
      "b\"and (like other pages) doesn't use borders otherwise.  Really, that page should \\n\"\n",
      "b'probably imitate blog/programs/etc layout, but want to keep top book-link images. \\n'\n",
      "b'-->\\n'\n",
      "b'\\n'\n",
      "b'\\n'\n",
      "b'<!-- \\n'\n",
      "b'Aug-2020: use media queries to downsize book-link images on smaller viewports to \\n'\n",
      "b'avoid some horizontal scrolling on small 4\" devices set to use larger iOS 13 page \\n'\n",
      "b\"zooms.  This isn't ideal (% continuous responsive and non-<table> layouts may be \\n\"\n",
      "b'better), but a rewrite to emulate the table-based layout here with <div>s failed \\n'\n",
      "b'to match the original appearance - and required scrolls anyhow.  More in _main.css.\\n'\n",
      "b'-->\\n'\n",
      "b'\\n'\n",
      "b'\\n'\n",
      "b'<STYLE>\\n'\n",
      "b'/*------------------------------------------------------------\\n'\n",
      "b'  ==> TEMP REDUNDANT COPY FOR CACHES: DELETE ME SOON <==\\n'\n",
      "b'\\n'\n",
      "b'Aug-2020: apply viewport clicks to _image_, not table cell.\\n'\n",
      "b'Should ideally use % continuous to a minimum/maximum (and \\n'\n",
      "b'the layout should use float <div>s instead of <table>s), but \\n'\n",
      "b\"recreating the original layout with that scheme didn't quite \\n\"\n",
      "b'match, and still required scrolling on small iOS devices.\\n'\n",
      "b'\\n'\n",
      "b'NOTE: this code is copied to index.html + index-book-links.html\\n'\n",
      "b'manually and temporarily, to avoid issues with browsers caching\\n'\n",
      "b'the prior version of _main.css - in which the lack of this code\\n'\n",
      "b'renders images huge!  DELETE the temp copies after a reasonable\\n'\n",
      "b\"time to allow caches to catch up with that file's new version.\\n\"\n",
      "b'Alt: append a query arg to file URL, but this disables caching.\\n'\n",
      "b'--------------------------------------------------------------*/\\n'\n",
      "b'\\n'\n",
      "b'/* TRIMMED AND DISABLED, NOV21\\n'\n",
      "b'.bookiconimg {}\\n'\n",
      "b'.bookiconimgtall {}\\n'\n",
      "b'*/\\n'\n",
      "b'\\n'\n",
      "b'\\n'\n",
      "b'/*------------------------------------------------------------\\n'\n",
      "b'  ==> TEMP REDUNDANT COPY FOR CACHES: DELETE ME SOON <==\\n'\n",
      "b'\\n'\n",
      "b'Exact same issue as above, this time for new p-p-u-s app icon:\\n'\n",
      "b'it renders huge if _main.css cached, because class undefined...\\n'\n",
      "b'--------------------------------------------------------------*/\\n'\n",
      "b'\\n'\n",
      "b'.bookiconimgsquare {                      /* jul23: for p-p-u-s non-book icon */\\n'\n",
      "b'    width:  54px;                         /* failed: style=\"height: 95%; width: 95%;\" */\\n'\n",
      "b'    height: 54px;\\n'\n",
      "b'}\\n'\n",
      "b'\\n'\n",
      "b'@media screen and (min-width: 320px) {    /* 320..359, 4\" ipod touch, 4\" se/5, 4.X\" lumia */\\n'\n",
      "b'.bookiconimgsquare {                      /* jul23: for p-p-u-s non-book icon */\\n'\n",
      "b'    width:  61px;\\n'\n",
      "b'    height: 61px;\\n'\n",
      "b'}\\n'\n",
      "b'}\\n'\n",
      "b'\\n'\n",
      "b'@media screen and (min-width: 360px) {    /* 360+: 4.7\" 2020 se; s8/9, note 10/20, fold */\\n'\n",
      "b'.bookiconimgsquare {                      /* jul23: for p-p-u-s non-book icon */\\n'\n",
      "b'    width:  72px;\\n'\n",
      "b'    height: 72px;\\n'\n",
      "b'}\\n'\n",
      "b'}\\n'\n",
      "b'\\n'\n",
      "b'\\n'\n",
      "b'</STYLE>\\n'\n",
      "b'\\n'\n",
      "b'\\n'\n",
      "b'\\n'\n",
      "b'\\n'\n",
      "b\"<!-- WHOLE 'card': one row =========================================================== -->\\n\"\n",
      "b'\\n'\n",
      "b'<!-- oct22: add a max-width to trim the empty space on the right in wider windows;\\n'\n",
      "b'     at high zooms this is irrelevant, but the empty space otherwise seemed odd; \\n'\n",
      "b\"     this also differs from the books index page, but the two pages' roles differ:\\n\"\n",
      "b'     the books page has content, but index is just a minimal root launcher page; \\n'\n",
      "b\"     note that can't drop widths and use padding-right: this impacts narrow mobile; -->\\n\"\n",
      "b'\\n'\n",
      "b'<!-- not css: copied -->\\n'\n",
      "b'\\n'\n",
      "b'<!-- apr23 recolor: PASS\\n'\n",
      "b'this (was black on ivory) + style=\"color:white\" on \"website\" link\\n'\n",
      "b'<style>body {color: white;}</style>\\n'\n",
      "b'<TABLE bgcolor=\"#173d3f\" \\n'\n",
      "b'-->\\n'\n",
      "b'\\n'\n",
      "b'<TABLE bgcolor=ivory \\n'\n",
      "b'       style=\"border: 1px solid black; border-radius: 6px; width: 100%; max-width: 750px;\">\\n'\n",
      "b'<tr>\\n'\n",
      "b'\\n'\n",
      "b'\\n'\n",
      "b'\\n'\n",
      "b'\\n'\n",
      "b'<!-- LEFT panel: one column ===========================================================-->\\n'\n",
      "b'\\n'\n",
      "b'<!-- width=50 or the style is required to set a max size on expansion (oddly) -->\\n'\n",
      "b'<TD valign=top bgcolor=tan style=\"width: 50px; border-radius: 6px;\">\\n'\n",
      "b'\\n'\n",
      "b'\\n'\n",
      "b'<!-- nested table for book icons -->\\n'\n",
      "b'\\n'\n",
      "b'<TABLE border=0 class=bookicons>           <!-- feb18: use higher res images here too -->\\n'\n",
      "b'                                           <!-- dec18: use css borders so ok in chrome at low zoom -->\\n'\n",
      "b'<tr><td style=\"padding-bottom: 8px;\">      <!-- aug20: use media queries to shrink imgs on small viewports -->\\n'\n",
      "b'  <A HREF=\"about-lp.html\">    \\n'\n",
      "b'  <IMG SRC=\"lp5e-large.jpg\" ALIGN=left \\n'\n",
      "b'       ALT=\"[Learning Python]\" TITLE=\"Learning Python: the classic language tutorial\" \\n'\n",
      "b'       class=\"borderedimg bookiconimg\"></A>          <!--was duller ora-lp5e-tiny.jpg-->\\n'\n",
      "b'\\n'\n",
      "b'<tr><td style=\"padding-bottom: 8px;\">\\n'\n",
      "b'  <A HREF=\"about-pp.html\">    \\n'\n",
      "b'  <IMG SRC=\"ora-pp4e-large.jpg\" ALIGN=left \\n'\n",
      "b'       ALT=\"[Programming Python]\" TITLE=\"Programming Python: an iconic applications tutorial\"\\n'\n",
      "b'       class=\"borderedimg bookiconimg\"></A>         <!--was duller ora-pp4e-tiny.jpg-->\\n'\n",
      "b'\\n'\n",
      "b'<tr><td style=\"padding-bottom: 8px;\">\\n'\n",
      "b'  <A HREF=\"about-pyref.html\"> \\n'\n",
      "b'  <IMG SRC=\"ora-pyref5e-big.jpg\" ALIGN=left \\n'\n",
      "b'       ALT=\"[Python Pocket Reference]\" TITLE=\"Python Pocket Reference: just the facts\"\\n'\n",
      "b'       class=\"borderedimg bookiconimgtall\"></A>     <!--was duller ora-pyref5e-tiny.jpg-->\\n'\n",
      "b'\\n'\n",
      "b'<!-- apr23: the saga continues; the 95% are a kludge, but avoid vertical img stretch;  -->\\n'\n",
      "b'<!-- jul23: style=\"height: 95%; width: 95%;\" stretched vertically and badly on older   -->\\n'\n",
      "b'<!-- webkit browers (e.g., Chrome on PC+mobile): use bookiconimgsquare, see _main.css; -->\\n'\n",
      "b'<tr><td>\\n'\n",
      "b'  <A HREF=\"https://quixotely.com/PC-Phone%20USB%20Sync/\"> \\n'\n",
      "b'  <IMG SRC=\"usbsync.png\" ALIGN=left \\n'\n",
      "b'       ALT=\"[PC-Phone USB Sync]\" TITLE=\"PC-Phone USB Sync: portable and private backup and sync\"\\n'\n",
      "b'       class=\"borderedimg bookiconimgsquare\"></A>    <!-- not \"height: 95%; width: 95%;\" -->\\n'\n",
      "b'\\n'\n",
      "b'<!-- CUT: too much information: on Code page\\n'\n",
      "b'<tr><td>\\n'\n",
      "b'  <A HREF=\"thumbspage.html\"> \\n'\n",
      "b'  <IMG SRC=\"auto-rotated-space-monkey.jpg\"\" ALIGN=left \\n'\n",
      "b'       ALT=\"[PC-Phone USB Sync]\" TITLE=\"thumbspage: build image galleries from folders\"\\n'\n",
      "b'       class=\"borderedimg bookiconimg\"></A>\\n'\n",
      "b'-->\\n'\n",
      "b'\\n'\n",
      "b'</TABLE>\\n'\n",
      "b'\\n'\n",
      "b'\\n'\n",
      "b'\\n'\n",
      "b'\\n'\n",
      "b'<!-- RIGHT panel: one column ==========================================================-->\\n'\n",
      "b'\\n'\n",
      "b\"<!-- was: '<TD><TD>' spacers, which grew by 1+ pixels with window; alt: div + margin? -->\\n\"\n",
      "b'<TD style=\"padding-left: 9px; vertical-align: top;\">\\n'\n",
      "b'\\n'\n",
      "b'<!-- END COPY -->\\n'\n",
      "b'\\n'\n",
      "b'\\n'\n",
      "b'\\n'\n",
      "b'\\n'\n",
      "b\"<H1><I>Mark Lutz's Books, Software, Etc.</I></H1>\\n\"\n",
      "b'\\n'\n",
      "b'\\n'\n",
      "b'<P>\\n'\n",
      "b'<I>Welcome</I>.\\n'\n",
      "b'At this desktop- and mobile-friendly\\n'\n",
      "b'<!-- apr23 recolor: style=\"color:white\" - PASS! -->\\n'\n",
      "b'<A class=subtlelink href=\"about-this-site.html\">website</A>, you can explore:\\n'\n",
      "b'</P>\\n'\n",
      "b'\\n'\n",
      "b'\\n'\n",
      "b'\\n'\n",
      "b'<!-- LINKS - REDESIGN NOV21: FLEXIBLE DIVS ==================================================== -->\\n'\n",
      "b'\\n'\n",
      "b'<!-- \\n'\n",
      "b'oct22: drop 170=>160px for linkcell - they seem a bit wide for buttons,\\n'\n",
      "b'and every pixel counts on a cramped mobile (see iPhone SE and iPod).\\n'\n",
      "b'Could use media queries or a % size, but that gets weird at extremes.\\n'\n",
      "b'-->\\n'\n",
      "b'   \\n'\n",
      "b'\\n'\n",
      "b'<STYLE>\\n'\n",
      "b'DIV.linksdiv {\\n'\n",
      "b'    margin-left: 2px; \\n'\n",
      "b'}\\n'\n",
      "b'\\n'\n",
      "b'DIV.linkscell {\\n'\n",
      "b'    display: inline-block;\\n'\n",
      "b'    width: 160px;                  /* oct22: 170=>160: pixels matter */\\n'\n",
      "b'    margin: 2px 0px 2px 0px;       /* top, right, bottom, left */\\n'\n",
      "b'    padding: 9px;\\n'\n",
      "b'    text-align: center;\\n'\n",
      "b'    background-color: tan;\\n'\n",
      "b'    border-radius: 6px;            /* rounded corners */\\n'\n",
      "b'}\\n'\n",
      "b'\\n'\n",
      "b'DIV.linkscell A {                  /* for all <a> in <div class=linkscell> */\\n'\n",
      "b'    text-decoration: none;         /* no underline for the link */\\n'\n",
      "b'    color: black;\\n'\n",
      "b'    font-weight: bold;\\n'\n",
      "b'}\\n'\n",
      "b'\\n'\n",
      "b'DIV.linkscell A:hover {\\n'\n",
      "b'    text-decoration: underline;    /* underline when cursor hovers over link */\\n'\n",
      "b'    font-style: italic;            /* go italic for consistency with footer */\\n'\n",
      "b'}\\n'\n",
      "b'</STYLE>\\n'\n",
      "b'\\n'\n",
      "b'\\n'\n",
      "b'<!-- 2 columns on large displays, collapse to 1 column on small -->\\n'\n",
      "b'\\n'\n",
      "b'<DIV class=linksdiv>\\n'\n",
      "b'\\n'\n",
      "b'<DIV class=linksrow>\\n'\n",
      "b'  <DIV class=linkscell>\\n'\n",
      "b'     <A HREF=\"index-book-links.html\" title=\"Info and resources for my books\\' readers\">Books</A>\\n'\n",
      "b'  </DIV>\\n'\n",
      "b'\\n'\n",
      "b'  <DIV class=linkscell>\\n'\n",
      "b'     <A HREF=\"programs.html\" title=\"A library of free programs coded in Python\">Code</A>\\n'\n",
      "b'  </DIV>\\n'\n",
      "b'</DIV>\\n'\n",
      "b'\\n'\n",
      "b'<DIV class=linksrow>\\n'\n",
      "b'  <DIV class=linkscell>\\n'\n",
      "b'      <A HREF=\"posts.html\" title=\"Opinions, comedy, and featured content\">Blog</A> \\n'\n",
      "b'  </DIV>\\n'\n",
      "b'\\n'\n",
      "b'  <DIV class=linkscell>\\n'\n",
      "b'      <A HREF=\"about-python.html\" title=\"Introducing the Python programming language\">Python</A>\\n'\n",
      "b'  </DIV>\\n'\n",
      "b'</DIV>\\n'\n",
      "b'\\n'\n",
      "b'<DIV class=linksrow>\\n'\n",
      "b'  <DIV class=linkscell>\\n'\n",
      "b'      <A HREF=\"formalbio.html\" title=\"Meet the curiously third-person proprietor\">Author</A>\\n'\n",
      "b'  </DIV>\\n'\n",
      "b'\\n'\n",
      "b'  <DIV class=linkscell>\\n'\n",
      "b'      <A HREF=\"training.html\" title=\"My training business: gone but not forgotten\">Train</A>\\n'\n",
      "b'  </DIV>\\n'\n",
      "b'</DIV>\\n'\n",
      "b'\\n'\n",
      "b'</DIV>\\n'\n",
      "b'\\n'\n",
      "b'\\n'\n",
      "b'\\n'\n",
      "b'<!-- LINKS - INTERIM NOV21: ROUNDED CORNERS =================================================== -->\\n'\n",
      "b'\\n'\n",
      "b'\\n'\n",
      "b'<!--DEFUNCT\\n'\n",
      "b'\\n'\n",
      "b'\\n'\n",
      "b'<STYLE>\\n'\n",
      "b'TABLE.linkstable TD {\\n'\n",
      "b'    border-radius: 6px;\\n'\n",
      "b'}\\n'\n",
      "b'</STYLE>\\n'\n",
      "b'\\n'\n",
      "b'\\n'\n",
      "b'DEFUNCT-->\\n'\n",
      "b'\\n'\n",
      "b'\\n'\n",
      "b'\\n'\n",
      "b'<!-- LINKS - ORIGINAL: TABLE+RESIZING ========================================================= -->\\n'\n",
      "b'\\n'\n",
      "b'\\n'\n",
      "b'<!--DEFUNCT\\n'\n",
      "b'\\n'\n",
      "b'\\n'\n",
      "b'<P>\\n'\n",
      "b'<TABLE border=0 cellpadding=9 cellspacing=3 class=linkstable>\\n'\n",
      "b'\\n'\n",
      "b'<! jan16: drop nowrap, but increase fixed size (see css) >\\n'\n",
      "b'<! feb18: to shave more pixels for mobile, cellpadding 10 => 9, extra <td> => style >\\n'\n",
      "b'<! sep18: trim left margin on small (320px) devices, else no right border (see css) >\\n'\n",
      "b' \\n'\n",
      "b'<TR>\\n'\n",
      "b'<TD bgcolor=tan align=center> <A class=blocklink HREF=\"index-book-links.html\" style=\"color: black;\">\\n'\n",
      "b'   <B>Books</B></A>\\n'\n",
      "b'\\n'\n",
      "b'<TD bgcolor=tan align=center> <A class=blocklink HREF=\"about-python.html\" style=\"color: black;\">\\n'\n",
      "b'    <B>Python</B></A>\\n'\n",
      "b'\\n'\n",
      "b'<TR>\\n'\n",
      "b'<TD bgcolor=tan align=center> <A class=blocklink HREF=\"programs.html\" style=\"color: black;\">\\n'\n",
      "b'   <B>Programs</B></A>\\n'\n",
      "b'\\n'\n",
      "b'<TD bgcolor=tan align=center> <A class=blocklink HREF=\"formalbio.html\" style=\"color: black;\">\\n'\n",
      "b'    <B>Author</B></A>\\n'\n",
      "b'\\n'\n",
      "b'<TR>\\n'\n",
      "b'<TD bgcolor=tan align=center> <A class=blocklink HREF=\"posts.html\" style=\"color: black;\">\\n'\n",
      "b'    <B>Blog</B></A> \\n'\n",
      "b'\\n'\n",
      "b'<TD bgcolor=tan align=center> <A class=blocklink HREF=\"training.html\" style=\"color: black;\">\\n'\n",
      "b'    <B>Training</B></A>\\n'\n",
      "b'\\n'\n",
      "b'</TABLE>\\n'\n",
      "b'\\n'\n",
      "b'\\n'\n",
      "b'DEFUNCT-->\\n'\n",
      "b'\\n'\n",
      "b'\\n'\n",
      "b'\\n'\n",
      "b'<!-- END LINKS ================================================================================ -->\\n'\n",
      "b'\\n'\n",
      "b'\\n'\n",
      "b'\\n'\n",
      "b'<P>\\n'\n",
      "b'You can also click the images on the left to jump \\n'\n",
      "b'to book titles and software products.\\n'\n",
      "b'\\n'\n",
      "b'<P>\\n'\n",
      "b\"This site's latest update: \\n\"\n",
      "b'<I>Sep-26-2023</I>.\\n'\n",
      "b'  <!-- hardcode for trivial changes: <I>Jul-6-2018</I>. -->\\n'\n",
      "b'  <!-- auto for non-trivial changes: <I>Sep-26-2023</I>. -->\\n'\n",
      "b'\\n'\n",
      "b'\\n'\n",
      "b'\\n'\n",
      "b'\\n'\n",
      "b\"<!-- end 'card' ====================================================================== -->\\n\"\n",
      "b'\\n'\n",
      "b'</TD>        <!-- column/panel -->\\n'\n",
      "b'</TR>        <!-- single row -->\\n'\n",
      "b\"</TABLE>     <!-- 'card' -->\\n\"\n",
      "b'</P>\\n'\n",
      "b'\\n'\n",
      "b'\\n'\n",
      "b'<!--GENHTML INSERT====================================================================-->\\n'\n",
      "b'<!--\\n'\n",
      "b'Nov15: added via genhtml.py, to avoid pasting footer in every file on changes.\\n'\n",
      "b'See learning-python.com/genhtml.html for other options and their tradeoffs.\\n'\n",
      "b'Caveat: this is now the same as FOOTERTAN; used to differ for top-level context.\\n'\n",
      "b'-->\\n'\n",
      "b'\\n'\n",
      "b'</P>\\n'\n",
      "b'\\n'\n",
      "b'<!--Feb18: make table responsive, for mobile-friendly scrollbar on small screens -->\\n'\n",
      "b'<BR><BR>\\n'\n",
      "b'<DIV class=footerdiv>\\n'\n",
      "b'<TABLE class=footertable bgcolor=tan>\\n'\n",
      "b'\\n'\n",
      "b\"<!-- NESTED INSERT: can't nest > 2 deep -->      \\n\"\n",
      "b'\\n'\n",
      "b'<!-- gif now is Home, not python.org  -->\\n'\n",
      "b'<!-- scale larger gif for better res  -->\\n'\n",
      "b'<!-- border=0 only for IE img links   -->\\n'\n",
      "b'<!-- _main.css center aligns all <td> -->\\n'\n",
      "b'<!-- now narrower to avoid scrollbars -->\\n'\n",
      "b'\\n'\n",
      "b'<TR>\\n'\n",
      "b'\\n'\n",
      "b'<TD>\\n'\n",
      "b'  <!-- alt: https://en.wikipedia.org/wiki/Flag_of_Ukraine -->\\n'\n",
      "b'  <A class=blocklinkbar href=\"https://en.wikipedia.org/wiki/Glory_to_Ukraine\">\\n'\n",
      "b'  <IMG SRC=\"Flag_of_Ukraine.svg.png\" border=0 width=55 height=22\\n'\n",
      "b'       ALT=\"[\\xd0\\xa1\\xd0\\xbb\\xd0\\xb0\\xd0\\xb2\\xd0\\xb0 \\xd0\\xa3\\xd0\\xba\\xd1\\x80\\xd0\\xb0\\xd1\\x97\\xd0\\xbd\\xd1\\x96!]\" TITLE=\"\\xd0\\xa1\\xd0\\xbb\\xd0\\xb0\\xd0\\xb2\\xd0\\xb0 \\xd0\\xa3\\xd0\\xba\\xd1\\x80\\xd0\\xb0\\xd1\\x97\\xd0\\xbd\\xd1\\x96!\"></A>  <!-- \\xe2\\x80\\x94 Glory to Ukraine! -->  \\n'\n",
      "b'<TD>\\n'\n",
      "b'  <A class=blocklinkbar HREF=\"index-book-links.html\">Books</A>\\n'\n",
      "b'<TD>\\n'\n",
      "b'  <A class=blocklinkbar HREF=\"programs.html\">Code</A>\\n'\n",
      "b'<TD>\\n'\n",
      "b'  <A class=blocklinkbar HREF=\"posts.html\">Blog</A>\\n'\n",
      "b'<TD>\\n'\n",
      "b'  <A class=blocklinkbar HREF=\"about-python.html\">Python</A>\\n'\n",
      "b'<TD>\\n'\n",
      "b'  <A class=blocklinkbar HREF=\"formalbio.html\">Author</A>\\n'\n",
      "b'<TD>\\n'\n",
      "b'  <A class=blocklinkbar HREF=\"training.html\">Train</A>\\n'\n",
      "b'<TD>\\n'\n",
      "b'  <A class=blocklinkbar HREF=\"sitesearch.html\">Find</A>\\n'\n",
      "b'<TD>\\n'\n",
      "b'  <A class=blocklinkbar HREF=\"mailto:lutz@learning-python.com\">&copy;M.Lutz</A>\\n'\n",
      "b'\\n'\n",
      "b'<!--DEFUNCT\\n'\n",
      "b'<TD>\\n'\n",
      "b'  <A class=blocklinkbar HREF=\"mailto:lutz@learning-python.com\">Email</A>\\n'\n",
      "b'<TD>\\n'\n",
      "b'  <A class=blocklinkbar HREF=\"#\">Top</A>\\n'\n",
      "b'DEFUNCT-->\\n'\n",
      "b'\\n'\n",
      "b'</TR>\\n'\n",
      "b'\\n'\n",
      "b'<!-- END NESTED INSERT -->\\n'\n",
      "b'\\n'\n",
      "b'</TABLE>\\n'\n",
      "b'</DIV>\\n'\n",
      "b'\\n'\n",
      "b'<!--END INSERT========================================================================-->\\n'\n",
      "b'\\n'\n",
      "b'\\n'\n",
      "b'</BODY>\\n'\n",
      "b'</HTML>\\n'\n",
      "b'\\n'\n",
      "b'\\n'\n"
     ]
    }
   ],
   "source": [
    "from urllib.request import urlopen\n",
    "url = 'http://learning-python.com/books'\n",
    "for line in urlopen('http://learning-python.com/books'):\n",
    "    print(line)\n"
   ]
  },
  {
   "attachments": {},
   "cell_type": "markdown",
   "metadata": {},
   "source": [
    "##### Q: What are the main functional differences between a while and a for?\n",
    "\n",
    "A while loop contains a conditional whereas a for loop is used in conjunction with some type of iterator.\n",
    "\n",
    "##### What’s the difference between break and continue?\n",
    "\n",
    "Break will terminate the current loop. Continue will jump to the top of the current loop, starting the next iteration.\n",
    "\n",
    "##### When is a loop’s else clause executed?\n",
    "\n",
    "As long as no break statement was encountered.\n",
    "\n",
    "##### How can you code a counter-based loop in Python?\n",
    "\n",
    "Method 1:\n",
    "\n",
    "```\n",
    "counter = 0\n",
    "while counter < 10:\n",
    "    count += 1\n",
    "```\n",
    "\n",
    "Method 2:\n",
    "\n",
    "```\n",
    "for i in range(10):\n",
    "    pass\n",
    "```\n",
    "\n",
    "##### What can a range be used for in a for loop?\n",
    "\n",
    "A range can be used to iterate through a fixed range of numbers."
   ]
  },
  {
   "attachments": {},
   "cell_type": "markdown",
   "metadata": {},
   "source": []
  }
 ],
 "metadata": {
  "kernelspec": {
   "display_name": ".venv",
   "language": "python",
   "name": "python3"
  },
  "language_info": {
   "codemirror_mode": {
    "name": "ipython",
    "version": 3
   },
   "file_extension": ".py",
   "mimetype": "text/x-python",
   "name": "python",
   "nbconvert_exporter": "python",
   "pygments_lexer": "ipython3",
   "version": "3.11.4"
  },
  "orig_nbformat": 4
 },
 "nbformat": 4,
 "nbformat_minor": 2
}
